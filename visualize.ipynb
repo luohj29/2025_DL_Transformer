{
 "cells": [
  {
   "cell_type": "code",
   "execution_count": 2,
   "id": "1dc96301",
   "metadata": {},
   "outputs": [
    {
     "name": "stdout",
     "output_type": "stream",
     "text": [
      "tensor([[[ 0.0000,  1.0000,  0.0000,  1.0000],\n",
      "         [ 0.8415,  0.5403,  0.0100,  0.9999],\n",
      "         [ 0.9093, -0.4161,  0.0200,  0.9998],\n",
      "         [ 0.1411, -0.9900,  0.0300,  0.9996],\n",
      "         [-0.7568, -0.6536,  0.0400,  0.9992],\n",
      "         [-0.9589,  0.2837,  0.0500,  0.9988],\n",
      "         [-0.2794,  0.9602,  0.0600,  0.9982],\n",
      "         [ 0.6570,  0.7539,  0.0699,  0.9976],\n",
      "         [ 0.9894, -0.1455,  0.0799,  0.9968],\n",
      "         [ 0.4121, -0.9111,  0.0899,  0.9960]]])\n"
     ]
    }
   ],
   "source": [
    "import torch\n",
    "import math \n",
    "\n",
    "max_len = 10\n",
    "d_model = 4\n",
    "\n",
    "pe = torch.zeros(max_len, d_model) #目标网格\n",
    "position = torch.arange(0, max_len, dtype=torch.float32).unsqueeze(1)\n",
    "# TODO: 计算位置编码\n",
    "div_item = torch.exp(\n",
    "    torch.arange(0, d_model, 2, dtype = torch.float32) * (-math.log(10000.0) / d_model)\n",
    ")\n",
    "pe[:, 0::2] = torch.sin(position * div_item)\n",
    "pe[:, 1::2] = torch.cos(position * div_item)\n",
    "pe = pe.unsqueeze(0)  # (1, max_len, D)， 增加一个b维度后面广播\n",
    "\n",
    "print(pe)"
   ]
  }
 ],
 "metadata": {
  "kernelspec": {
   "display_name": "mlsys",
   "language": "python",
   "name": "python3"
  },
  "language_info": {
   "codemirror_mode": {
    "name": "ipython",
    "version": 3
   },
   "file_extension": ".py",
   "mimetype": "text/x-python",
   "name": "python",
   "nbconvert_exporter": "python",
   "pygments_lexer": "ipython3",
   "version": "3.10.16"
  }
 },
 "nbformat": 4,
 "nbformat_minor": 5
}
